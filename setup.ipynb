{
 "cells": [
  {
   "cell_type": "code",
   "execution_count": 1,
   "metadata": {},
   "outputs": [
    {
     "name": "stdout",
     "output_type": "stream",
     "text": [
      "Requirement already satisfied: pandas in c:\\users\\reddy\\anaconda3\\lib\\site-packages (1.4.2)\n",
      "Requirement already satisfied: python-dateutil>=2.8.1 in c:\\users\\reddy\\anaconda3\\lib\\site-packages (from pandas) (2.8.2)\n",
      "Requirement already satisfied: numpy>=1.18.5 in c:\\users\\reddy\\anaconda3\\lib\\site-packages (from pandas) (1.21.5)\n",
      "Requirement already satisfied: pytz>=2020.1 in c:\\users\\reddy\\anaconda3\\lib\\site-packages (from pandas) (2021.3)\n",
      "Requirement already satisfied: six>=1.5 in c:\\users\\reddy\\anaconda3\\lib\\site-packages (from python-dateutil>=2.8.1->pandas) (1.16.0)\n",
      "Note: you may need to restart the kernel to use updated packages.\n"
     ]
    }
   ],
   "source": [
    "pip install pandas"
   ]
  },
  {
   "cell_type": "code",
   "execution_count": 2,
   "metadata": {},
   "outputs": [
    {
     "name": "stdout",
     "output_type": "stream",
     "text": [
      "Requirement already satisfied: numpy in c:\\users\\reddy\\anaconda3\\lib\\site-packages (1.21.5)\n",
      "Note: you may need to restart the kernel to use updated packages.\n"
     ]
    }
   ],
   "source": [
    "pip install numpy"
   ]
  },
  {
   "cell_type": "code",
   "execution_count": 1,
   "metadata": {},
   "outputs": [
    {
     "name": "stdout",
     "output_type": "stream",
     "text": [
      "Requirement already satisfied: scikit-learn in c:\\users\\reddy\\anaconda3\\lib\\site-packages (1.0.2)\n",
      "Requirement already satisfied: numpy>=1.14.6 in c:\\users\\reddy\\anaconda3\\lib\\site-packages (from scikit-learn) (1.21.5)\n",
      "Requirement already satisfied: scipy>=1.1.0 in c:\\users\\reddy\\anaconda3\\lib\\site-packages (from scikit-learn) (1.7.3)\n",
      "Requirement already satisfied: threadpoolctl>=2.0.0 in c:\\users\\reddy\\anaconda3\\lib\\site-packages (from scikit-learn) (2.2.0)\n",
      "Requirement already satisfied: joblib>=0.11 in c:\\users\\reddy\\anaconda3\\lib\\site-packages (from scikit-learn) (1.1.0)\n",
      "Note: you may need to restart the kernel to use updated packages.\n"
     ]
    }
   ],
   "source": [
    "pip install scikit-learn"
   ]
  },
  {
   "cell_type": "code",
   "execution_count": 1,
   "metadata": {},
   "outputs": [
    {
     "name": "stdout",
     "output_type": "stream",
     "text": [
      "Collecting datascience\n",
      "  Downloading datascience-0.17.5.tar.gz (727 kB)\n",
      "\u001b[K     |████████████████████████████████| 727 kB 1.3 MB/s eta 0:00:01\n",
      "\u001b[?25hCollecting folium>=0.9.1\n",
      "  Downloading folium-0.13.0-py2.py3-none-any.whl (96 kB)\n",
      "\u001b[K     |████████████████████████████████| 96 kB 7.8 MB/s  eta 0:00:01\n",
      "\u001b[?25hRequirement already satisfied: setuptools in /Users/nithin/opt/anaconda3/lib/python3.9/site-packages (from datascience) (61.2.0)\n",
      "Requirement already satisfied: matplotlib>=3.0.0 in /Users/nithin/opt/anaconda3/lib/python3.9/site-packages (from datascience) (3.5.1)\n",
      "Requirement already satisfied: pandas in /Users/nithin/opt/anaconda3/lib/python3.9/site-packages (from datascience) (1.4.2)\n",
      "Requirement already satisfied: scipy in /Users/nithin/opt/anaconda3/lib/python3.9/site-packages (from datascience) (1.7.3)\n",
      "Requirement already satisfied: numpy in /Users/nithin/opt/anaconda3/lib/python3.9/site-packages (from datascience) (1.21.5)\n",
      "Requirement already satisfied: ipython in /Users/nithin/opt/anaconda3/lib/python3.9/site-packages (from datascience) (8.2.0)\n",
      "Requirement already satisfied: plotly in /Users/nithin/opt/anaconda3/lib/python3.9/site-packages (from datascience) (5.6.0)\n",
      "Collecting branca\n",
      "  Downloading branca-0.5.0-py3-none-any.whl (24 kB)\n",
      "Requirement already satisfied: jinja2>=2.9 in /Users/nithin/opt/anaconda3/lib/python3.9/site-packages (from folium>=0.9.1->datascience) (2.11.3)\n",
      "Requirement already satisfied: requests in /Users/nithin/opt/anaconda3/lib/python3.9/site-packages (from folium>=0.9.1->datascience) (2.27.1)\n",
      "Requirement already satisfied: MarkupSafe>=0.23 in /Users/nithin/opt/anaconda3/lib/python3.9/site-packages (from jinja2>=2.9->folium>=0.9.1->datascience) (2.0.1)\n",
      "Requirement already satisfied: kiwisolver>=1.0.1 in /Users/nithin/opt/anaconda3/lib/python3.9/site-packages (from matplotlib>=3.0.0->datascience) (1.3.2)\n",
      "Requirement already satisfied: pillow>=6.2.0 in /Users/nithin/opt/anaconda3/lib/python3.9/site-packages (from matplotlib>=3.0.0->datascience) (9.0.1)\n",
      "Requirement already satisfied: packaging>=20.0 in /Users/nithin/opt/anaconda3/lib/python3.9/site-packages (from matplotlib>=3.0.0->datascience) (21.3)\n",
      "Requirement already satisfied: fonttools>=4.22.0 in /Users/nithin/opt/anaconda3/lib/python3.9/site-packages (from matplotlib>=3.0.0->datascience) (4.25.0)\n",
      "Requirement already satisfied: cycler>=0.10 in /Users/nithin/opt/anaconda3/lib/python3.9/site-packages (from matplotlib>=3.0.0->datascience) (0.11.0)\n",
      "Requirement already satisfied: python-dateutil>=2.7 in /Users/nithin/opt/anaconda3/lib/python3.9/site-packages (from matplotlib>=3.0.0->datascience) (2.8.2)\n",
      "Requirement already satisfied: pyparsing>=2.2.1 in /Users/nithin/opt/anaconda3/lib/python3.9/site-packages (from matplotlib>=3.0.0->datascience) (3.0.4)\n",
      "Requirement already satisfied: six>=1.5 in /Users/nithin/opt/anaconda3/lib/python3.9/site-packages (from python-dateutil>=2.7->matplotlib>=3.0.0->datascience) (1.16.0)\n",
      "Requirement already satisfied: pexpect>4.3 in /Users/nithin/opt/anaconda3/lib/python3.9/site-packages (from ipython->datascience) (4.8.0)\n",
      "Requirement already satisfied: stack-data in /Users/nithin/opt/anaconda3/lib/python3.9/site-packages (from ipython->datascience) (0.2.0)\n",
      "Requirement already satisfied: prompt-toolkit!=3.0.0,!=3.0.1,<3.1.0,>=2.0.0 in /Users/nithin/opt/anaconda3/lib/python3.9/site-packages (from ipython->datascience) (3.0.20)\n",
      "Requirement already satisfied: pygments>=2.4.0 in /Users/nithin/opt/anaconda3/lib/python3.9/site-packages (from ipython->datascience) (2.11.2)\n",
      "Requirement already satisfied: pickleshare in /Users/nithin/opt/anaconda3/lib/python3.9/site-packages (from ipython->datascience) (0.7.5)\n",
      "Requirement already satisfied: jedi>=0.16 in /Users/nithin/opt/anaconda3/lib/python3.9/site-packages (from ipython->datascience) (0.18.1)\n",
      "Requirement already satisfied: appnope in /Users/nithin/opt/anaconda3/lib/python3.9/site-packages (from ipython->datascience) (0.1.2)\n",
      "Requirement already satisfied: decorator in /Users/nithin/opt/anaconda3/lib/python3.9/site-packages (from ipython->datascience) (5.1.1)\n",
      "Requirement already satisfied: matplotlib-inline in /Users/nithin/opt/anaconda3/lib/python3.9/site-packages (from ipython->datascience) (0.1.2)\n",
      "Requirement already satisfied: traitlets>=5 in /Users/nithin/opt/anaconda3/lib/python3.9/site-packages (from ipython->datascience) (5.1.1)\n",
      "Requirement already satisfied: backcall in /Users/nithin/opt/anaconda3/lib/python3.9/site-packages (from ipython->datascience) (0.2.0)\n",
      "Requirement already satisfied: parso<0.9.0,>=0.8.0 in /Users/nithin/opt/anaconda3/lib/python3.9/site-packages (from jedi>=0.16->ipython->datascience) (0.8.3)\n",
      "Requirement already satisfied: ptyprocess>=0.5 in /Users/nithin/opt/anaconda3/lib/python3.9/site-packages (from pexpect>4.3->ipython->datascience) (0.7.0)\n",
      "Requirement already satisfied: wcwidth in /Users/nithin/opt/anaconda3/lib/python3.9/site-packages (from prompt-toolkit!=3.0.0,!=3.0.1,<3.1.0,>=2.0.0->ipython->datascience) (0.2.5)\n",
      "Requirement already satisfied: pytz>=2020.1 in /Users/nithin/opt/anaconda3/lib/python3.9/site-packages (from pandas->datascience) (2021.3)\n",
      "Requirement already satisfied: tenacity>=6.2.0 in /Users/nithin/opt/anaconda3/lib/python3.9/site-packages (from plotly->datascience) (8.0.1)\n",
      "Requirement already satisfied: urllib3<1.27,>=1.21.1 in /Users/nithin/opt/anaconda3/lib/python3.9/site-packages (from requests->folium>=0.9.1->datascience) (1.26.9)\n",
      "Requirement already satisfied: charset-normalizer~=2.0.0 in /Users/nithin/opt/anaconda3/lib/python3.9/site-packages (from requests->folium>=0.9.1->datascience) (2.0.4)\n",
      "Requirement already satisfied: idna<4,>=2.5 in /Users/nithin/opt/anaconda3/lib/python3.9/site-packages (from requests->folium>=0.9.1->datascience) (3.3)\n",
      "Requirement already satisfied: certifi>=2017.4.17 in /Users/nithin/opt/anaconda3/lib/python3.9/site-packages (from requests->folium>=0.9.1->datascience) (2021.10.8)\n",
      "Requirement already satisfied: asttokens in /Users/nithin/opt/anaconda3/lib/python3.9/site-packages (from stack-data->ipython->datascience) (2.0.5)\n",
      "Requirement already satisfied: pure-eval in /Users/nithin/opt/anaconda3/lib/python3.9/site-packages (from stack-data->ipython->datascience) (0.2.2)\n",
      "Requirement already satisfied: executing in /Users/nithin/opt/anaconda3/lib/python3.9/site-packages (from stack-data->ipython->datascience) (0.8.3)\n",
      "Building wheels for collected packages: datascience\n",
      "  Building wheel for datascience (setup.py) ... \u001b[?25ldone\n",
      "\u001b[?25h  Created wheel for datascience: filename=datascience-0.17.5-py3-none-any.whl size=732546 sha256=7d28aca00f2705d5d2650a7d8384719dc3f7bfafc2725da60d09c47f4f1ca6a8\n",
      "  Stored in directory: /Users/nithin/Library/Caches/pip/wheels/74/0a/88/e52ce8c2533663326372f4be6eba170267fb70dc6252234186\n",
      "Successfully built datascience\n",
      "Installing collected packages: branca, folium, datascience\n",
      "Successfully installed branca-0.5.0 datascience-0.17.5 folium-0.13.0\n",
      "Note: you may need to restart the kernel to use updated packages.\n"
     ]
    }
   ],
   "source": [
    "pip install datascience"
   ]
  }
 ],
 "metadata": {
  "kernelspec": {
   "display_name": "Python 3.9.12 ('base')",
   "language": "python",
   "name": "python3"
  },
  "language_info": {
   "codemirror_mode": {
    "name": "ipython",
    "version": 3
   },
   "file_extension": ".py",
   "mimetype": "text/x-python",
   "name": "python",
   "nbconvert_exporter": "python",
   "pygments_lexer": "ipython3",
   "version": "3.9.12"
  },
  "orig_nbformat": 4,
  "vscode": {
   "interpreter": {
    "hash": "a8da35c427304e35df2ffa46d8caf5ad27aebf97ff40540fe8c53c257a62971d"
   }
  }
 },
 "nbformat": 4,
 "nbformat_minor": 2
}
